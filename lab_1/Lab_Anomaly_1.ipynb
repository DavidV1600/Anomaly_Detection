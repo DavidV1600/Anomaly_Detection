{
  "nbformat": 4,
  "nbformat_minor": 0,
  "metadata": {
    "colab": {
      "provenance": []
    },
    "kernelspec": {
      "name": "python3",
      "display_name": "Python 3"
    },
    "language_info": {
      "name": "python"
    }
  },
  "cells": [
    {
      "cell_type": "code",
      "execution_count": 6,
      "metadata": {
        "colab": {
          "base_uri": "https://localhost:8080/"
        },
        "id": "betExKfZD9ET",
        "outputId": "63eef70e-305b-4744-a5f2-49527b641737"
      },
      "outputs": [
        {
          "output_type": "stream",
          "name": "stdout",
          "text": [
            "Requirement already satisfied: pyod in /usr/local/lib/python3.12/dist-packages (2.0.5)\n",
            "Requirement already satisfied: joblib in /usr/local/lib/python3.12/dist-packages (from pyod) (1.5.2)\n",
            "Requirement already satisfied: matplotlib in /usr/local/lib/python3.12/dist-packages (from pyod) (3.10.0)\n",
            "Requirement already satisfied: numpy>=1.19 in /usr/local/lib/python3.12/dist-packages (from pyod) (2.0.2)\n",
            "Requirement already satisfied: numba>=0.51 in /usr/local/lib/python3.12/dist-packages (from pyod) (0.60.0)\n",
            "Requirement already satisfied: scipy>=1.5.1 in /usr/local/lib/python3.12/dist-packages (from pyod) (1.16.2)\n",
            "Requirement already satisfied: scikit-learn>=0.22.0 in /usr/local/lib/python3.12/dist-packages (from pyod) (1.6.1)\n",
            "Requirement already satisfied: llvmlite<0.44,>=0.43.0dev0 in /usr/local/lib/python3.12/dist-packages (from numba>=0.51->pyod) (0.43.0)\n",
            "Requirement already satisfied: threadpoolctl>=3.1.0 in /usr/local/lib/python3.12/dist-packages (from scikit-learn>=0.22.0->pyod) (3.6.0)\n",
            "Requirement already satisfied: contourpy>=1.0.1 in /usr/local/lib/python3.12/dist-packages (from matplotlib->pyod) (1.3.3)\n",
            "Requirement already satisfied: cycler>=0.10 in /usr/local/lib/python3.12/dist-packages (from matplotlib->pyod) (0.12.1)\n",
            "Requirement already satisfied: fonttools>=4.22.0 in /usr/local/lib/python3.12/dist-packages (from matplotlib->pyod) (4.60.1)\n",
            "Requirement already satisfied: kiwisolver>=1.3.1 in /usr/local/lib/python3.12/dist-packages (from matplotlib->pyod) (1.4.9)\n",
            "Requirement already satisfied: packaging>=20.0 in /usr/local/lib/python3.12/dist-packages (from matplotlib->pyod) (25.0)\n",
            "Requirement already satisfied: pillow>=8 in /usr/local/lib/python3.12/dist-packages (from matplotlib->pyod) (11.3.0)\n",
            "Requirement already satisfied: pyparsing>=2.3.1 in /usr/local/lib/python3.12/dist-packages (from matplotlib->pyod) (3.2.5)\n",
            "Requirement already satisfied: python-dateutil>=2.7 in /usr/local/lib/python3.12/dist-packages (from matplotlib->pyod) (2.9.0.post0)\n",
            "Requirement already satisfied: six>=1.5 in /usr/local/lib/python3.12/dist-packages (from python-dateutil>=2.7->matplotlib->pyod) (1.17.0)\n"
          ]
        }
      ],
      "source": [
        "import numpy as np\n",
        "!pip install pyod\n",
        "import pyod.utils.data as pyod\n",
        "import matplotlib.pyplot as pyplot"
      ]
    },
    {
      "cell_type": "code",
      "source": [
        "X_train, X_test, y_train, y_test = pyod.generate_data(n_train=400, n_test=100, contamination=0.1)"
      ],
      "metadata": {
        "id": "__Wsz6_vEpgK"
      },
      "execution_count": 136,
      "outputs": []
    },
    {
      "cell_type": "code",
      "source": [
        "pyplot.scatter(X_train[:, 0], X_train[:, 1], c=y_train)\n",
        "pyplot.xlabel('X')\n",
        "pyplot.ylabel('Y')\n",
        "pyplot.show()"
      ],
      "metadata": {
        "colab": {
          "base_uri": "https://localhost:8080/",
          "height": 449
        },
        "id": "QwiDpUkLGD3G",
        "outputId": "28dc7962-6aca-42d7-ae9b-9e044d5ccd75"
      },
      "execution_count": 137,
      "outputs": [
        {
          "output_type": "display_data",
          "data": {
            "text/plain": [
              "<Figure size 640x480 with 1 Axes>"
            ],
            "image/png": "[encoded data removed]"
          },
          "metadata": {}
        }
      ]
    },
    {
      "cell_type": "code",
      "source": [
        "from pyod.models.knn import KNN\n",
        "knn_model = KNN(contamination=0.1)\n",
        "knn_model.fit(X_train)\n",
        "train_pred = knn_model.predict(X_train)\n",
        "test_pred = knn_model.predict(X_test)"
      ],
      "metadata": {
        "id": "aEcysNwRIXyn"
      },
      "execution_count": 138,
      "outputs": []
    },
    {
      "cell_type": "code",
      "source": [
        "from sklearn.metrics import confusion_matrix, roc_curve, balanced_accuracy_score\n",
        "print(confusion_matrix(train_pred, y_train))\n",
        "\n",
        "print (\"------------------------------------------\")\n",
        "\n",
        "print(confusion_matrix(y_test, test_pred))\n",
        "\n",
        "print (\"------------------------------------------\")\n",
        "\n",
        "print(balanced_accuracy_score(y_test, test_pred))"
      ],
      "metadata": {
        "colab": {
          "base_uri": "https://localhost:8080/"
        },
        "id": "Eq4IwWqQHqqE",
        "outputId": "fcd03e20-ace5-4c75-85d2-250d28d6b6bd"
      },
      "execution_count": 139,
      "outputs": [
        {
          "output_type": "stream",
          "name": "stdout",
          "text": [
            "[[360   0]\n",
            " [  0  40]]\n",
            "------------------------------------------\n",
            "[[90  0]\n",
            " [ 0 10]]\n",
            "------------------------------------------\n",
            "1.0\n"
          ]
        }
      ]
    },
    {
      "cell_type": "code",
      "source": [
        "roc_curve = roc_curve(test_pred, y_test)\n",
        "pyplot.plot(roc_curve[0], roc_curve[1])\n",
        "pyplot.xlabel('FP Rate')\n",
        "pyplot.ylabel('TP Rate')\n",
        "pyplot.show()"
      ],
      "metadata": {
        "colab": {
          "base_uri": "https://localhost:8080/",
          "height": 449
        },
        "id": "7YNdwqC_H49L",
        "outputId": "5d4cd57b-6997-4812-d113-b7f616f9a70f"
      },
      "execution_count": 140,
      "outputs": [
        {
          "output_type": "display_data",
          "data": {
            "text/plain": [
              "<Figure size 640x480 with 1 Axes>"
            ],
            "image/png": "[encoded data removed]"
          },
          "metadata": {}
        }
      ]
    },
    {
      "cell_type": "code",
      "source": [
        "X_train, X_test, y_train, y_test = pyod.generate_data(n_train=1000, n_test=0, contamination=0.1)"
      ],
      "metadata": {
        "id": "VRlOpHAJIego"
      },
      "execution_count": 141,
      "outputs": []
    },
    {
      "cell_type": "code",
      "source": [
        "z_scores = (X_train[:, 0] - np.mean(X_train[:, 0])) / np.std(X_train[:, 0])\n",
        "#print(z_scores)\n",
        "z_scores_threshold = np.quantile(np.abs(z_scores), 1 - 0.1)\n",
        "print(z_scores_threshold)\n",
        "print (\"------------------------------------------\")\n",
        "y_pred = np.where(np.abs(z_scores) > z_scores_threshold, 1, 0)\n",
        "\n",
        "print(y_train.shape)\n",
        "print(y_pred.shape)\n",
        "from sklearn.metrics import balanced_accuracy_score\n",
        "print(balanced_accuracy_score(y_train, y_pred))"
      ],
      "metadata": {
        "colab": {
          "base_uri": "https://localhost:8080/"
        },
        "id": "Alh6v3q5L-ew",
        "outputId": "c8a2d7b5-1af4-4573-f972-d44156bb0ed5"
      },
      "execution_count": 142,
      "outputs": [
        {
          "output_type": "stream",
          "name": "stdout",
          "text": [
            "1.6601560594075415\n",
            "------------------------------------------\n",
            "(1000,)\n",
            "(1000,)\n",
            "0.4444444444444444\n"
          ]
        }
      ]
    },
    {
      "cell_type": "code",
      "source": [
        "np.random.seed(42)\n",
        "\n",
        "mean = np.array([2, -1, 0.5])\n",
        "cov_matrix = np.array([\n",
        "    [4, -2, 0],\n",
        "    [-2, 3, 1],\n",
        "    [0, 1, 5]\n",
        "])\n",
        "\n",
        "x = np.random.randn(1000, 3)\n",
        "\n",
        "L = np.linalg.cholesky(cov_matrix)\n",
        "\n",
        "y = (L @ x.T).T + mean"
      ],
      "metadata": {
        "id": "NlLWBgfCNKk6"
      },
      "execution_count": 156,
      "outputs": []
    },
    {
      "cell_type": "code",
      "source": [
        "print(y.shape)\n",
        "print(np.mean(y, axis=0))\n",
        "print(np.cov(y.T))"
      ],
      "metadata": {
        "colab": {
          "base_uri": "https://localhost:8080/"
        },
        "id": "7EPzzi-tRs3D",
        "outputId": "ab683704-e935-4714-bd5f-3a1074c6ac96"
      },
      "execution_count": 157,
      "outputs": [
        {
          "output_type": "stream",
          "name": "stdout",
          "text": [
            "(1000, 3)\n",
            "[ 2.11002206 -1.06345184  0.59539687]\n",
            "[[ 3.76524766 -2.01246191 -0.15104246]\n",
            " [-2.01246191  3.10557836  1.19601071]\n",
            " [-0.15104246  1.19601071  4.94355506]]\n"
          ]
        }
      ]
    },
    {
      "cell_type": "code",
      "source": [
        "idx_out = np.random.choice(1000, 100, replace=False)\n",
        "\n",
        "y_true = np.zeros(1000)\n",
        "y_true[idx_out] = 1\n",
        "\n",
        "z_scores = np.zeros_like(y)\n",
        "for i in range(3):\n",
        "    z_scores[:, i] = (y[:, i] - np.mean(y[:, i])) / np.std(y[:, i])\n",
        "\n",
        "max_z_scores = np.max(np.abs(z_scores), axis=1)\n",
        "threshold_z = np.quantile(max_z_scores, 1 - 0.1)"
      ],
      "metadata": {
        "id": "vBkM_uYNRkuF"
      },
      "execution_count": 167,
      "outputs": []
    },
    {
      "cell_type": "code",
      "source": [
        "print(threshold_z)\n",
        "print(\"------------------------------------------\")\n",
        "\n",
        "y_pred = np.where(max_z_scores > threshold_z, 1, 0)\n",
        "\n",
        "print(y_true.shape)\n",
        "print(y_pred.shape)\n",
        "print(balanced_accuracy_score(y_true, y_pred))"
      ],
      "metadata": {
        "colab": {
          "base_uri": "https://localhost:8080/"
        },
        "id": "2QUB_uFyRqpK",
        "outputId": "73553006-2796-4d9f-bb19-f7d0dedfc851"
      },
      "execution_count": 168,
      "outputs": [
        {
          "output_type": "stream",
          "name": "stdout",
          "text": [
            "2.085762465734504\n",
            "------------------------------------------\n",
            "(1000,)\n",
            "(1000,)\n",
            "0.5\n"
          ]
        }
      ]
    },
    {
      "cell_type": "code",
      "source": [],
      "metadata": {
        "id": "AO2v80sdRzVe"
      },
      "execution_count": null,
      "outputs": []
    }
  ]
}